{
 "cells": [
  {
   "cell_type": "code",
   "execution_count": 1,
   "metadata": {},
   "outputs": [],
   "source": [
    "from HPC_lib import *"
   ]
  },
  {
   "cell_type": "code",
   "execution_count": null,
   "metadata": {},
   "outputs": [
    {
     "name": "stdout",
     "output_type": "stream",
     "text": [
      "1/10\n"
     ]
    }
   ],
   "source": [
    "## RE-LEARNING ##############################################\n",
    "\n",
    "\n",
    "## Define parameters for experiment ##########################\n",
    "n_arenas, dd_precision, n_rep_per_model = [10, 10, 10]      ##\n",
    "n_grid, n_lec, n_DG, n_CA3, n_CA1 = [70, 230, 150, 80, 150] ##\n",
    "##############################################################\n",
    "\n",
    "\n",
    "epochs_mean = []\n",
    "epochs_std = []\n",
    "epochs_sem = []\n",
    "loss_mean = []\n",
    "loss_std = []\n",
    "loss_sem = []\n",
    "loss_curves = []\n",
    "\n",
    "for i in np.arange(n_arenas):\n",
    "    \n",
    "    print ( str(i+1) + '/' + str(n_arenas) )\n",
    "    \n",
    "    ## Create arenas, model and fit \n",
    "    data = create_arena(n_grid=n_grid, n_lec=n_lec)\n",
    "    model = create_model(n_DG=n_DG, n_CA3=n_CA3, n_CA1=n_CA1, dim=n_grid+n_lec)\n",
    "    history = fit(model, data, save_weights=True)\n",
    "    \n",
    "    data2 = create_arena(n_grid=n_grid, n_lec=n_lec)\n",
    "    \n",
    "    epochs_mean_temp = []\n",
    "    epochs_std_temp = []\n",
    "    epochs_sem_temp = []\n",
    "    loss_mean_temp = []\n",
    "    loss_std_temp = []\n",
    "    loss_sem_temp = []\n",
    "    loss_curves_temp = []\n",
    "    \n",
    "    ## Modify the arena by a proportion of dd \n",
    "    for dd in np.linspace(0, 1, dd_precision+1):\n",
    "\n",
    "        epochs_log = []\n",
    "        loss_log = []\n",
    "        loss_curve_log = []\n",
    "        \n",
    "        ## Average across experiments \n",
    "        for _ in np.arange(n_rep_per_model):\n",
    "\n",
    "            new_data = modify_arena(data=data, data2=data2, dd=dd, n_grid=n_grid, n_lec=n_lec)\n",
    "        \n",
    "            model.load_weights('model.h5')\n",
    "            history = fit(model, new_data, save_weights=False)\n",
    "\n",
    "            epochs_log.append(len(history.history['loss']))\n",
    "            loss_log.append(history.history['loss'][-1])\n",
    "            loss_curve_log.append([history.history['loss']])\n",
    "    \n",
    "        epochs_mean_temp.append(np.mean(epochs_log))\n",
    "        epochs_std_temp.append(np.std(epochs_log))\n",
    "        epochs_sem_temp.append(stats.sem(epochs_log))\n",
    "        loss_mean_temp.append(np.mean(loss_log))\n",
    "        loss_std_temp.append(np.std(loss_log))\n",
    "        loss_sem_temp.append(stats.sem(loss_log))\n",
    "        loss_curves_temp.append([np.mean(loss_curve_log, axis=0)])\n",
    "        \n",
    "    epochs_mean.append([epochs_mean_temp])\n",
    "    epochs_std.append([epochs_std_temp])\n",
    "    epochs_sem.append([epochs_sem_temp])\n",
    "    loss_mean.append([loss_mean_temp])\n",
    "    loss_std.append([loss_std_temp])\n",
    "    loss_sem.append([loss_sem_temp])\n",
    "    loss_curves.append([loss_curves_temp])\n",
    "    \n",
    "epochs_mean = np.mean(epochs_mean, axis=0)\n",
    "epochs_std = np.std(epochs_std, axis=0)\n",
    "epochs_sem = stats.sem(epochs_sem, axis=0)\n",
    "loss_mean = np.mean(loss_mean, axis=0)\n",
    "loss_std = np.std(loss_std, axis=0)\n",
    "loss_sem = stats.sem(loss_sem, axis=0)\n",
    "loss_curves = np.mean(loss_curves, axis=0)"
   ]
  },
  {
   "cell_type": "code",
   "execution_count": null,
   "metadata": {
    "scrolled": true
   },
   "outputs": [],
   "source": [
    "plt.figure(figsize=(16,8))\n",
    "loss_curves = loss_curves.reshape((11,50))\n",
    "\n",
    "begin = 0\n",
    "for dd in np.arange(1,11):\n",
    "    plt.axvline(x=begin, linestyle='--', c='black', linewidth=1.)\n",
    "    plt.plot(np.arange(begin, begin+len(loss_curves[dd])), loss_curves[dd], linewidth=5.)\n",
    "    begin += len(loss_curves[dd])\n",
    "\n",
    "plt.title('Adaptation after context modification', fontsize=28)\n",
    "#plt.xlabel('Epochs', fontsize=20)\n",
    "#plt.xticks(fontsize=20)\n",
    "plt.xlabel('Context modification (%)', fontsize=20)\n",
    "plt.xticks(np.linspace(0,500,11), np.round(np.linspace(0.1,1,10),1), fontsize=20)\n",
    "plt.tick_params(axis=u'both', which=u'both',length=0)\n",
    "plt.ylabel('Loss', fontsize=20)\n",
    "plt.yticks(fontsize=20)\n",
    "plt.ylim(0,0.02)  # appropriate scale for comparison with initial learning would be (0, 0.045)\n",
    "\n",
    "plt.plot(np.linspace(50,500,10), loss_curves[1:,-1], color='black', linewidth=0.5, marker='o')\n",
    "plt.plot(np.linspace(0,450,10), loss_curves[1:,0], color='black', linewidth=0.5, marker='o')"
   ]
  },
  {
   "cell_type": "code",
   "execution_count": null,
   "metadata": {},
   "outputs": [],
   "source": []
  }
 ],
 "metadata": {
  "kernelspec": {
   "display_name": "Python 3",
   "language": "python",
   "name": "python3"
  },
  "language_info": {
   "codemirror_mode": {
    "name": "ipython",
    "version": 3
   },
   "file_extension": ".py",
   "mimetype": "text/x-python",
   "name": "python",
   "nbconvert_exporter": "python",
   "pygments_lexer": "ipython3",
   "version": "3.7.4"
  }
 },
 "nbformat": 4,
 "nbformat_minor": 2
}
